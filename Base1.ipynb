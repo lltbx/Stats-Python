{
 "cells": [
  {
   "cell_type": "markdown",
   "metadata": {},
   "source": [
    "# Virshylo Mykhailo EF 4 "
   ]
  },
  {
   "cell_type": "markdown",
   "metadata": {},
   "source": [
    "# Task 1"
   ]
  },
  {
   "cell_type": "code",
   "execution_count": 7,
   "metadata": {},
   "outputs": [
    {
     "name": "stdout",
     "output_type": "stream",
     "text": [
      "a = 2, b = 5, c = 2, d = 1, e = 4, f = 4\n",
      "Результат виразу: 26.79898987322333\n"
     ]
    }
   ],
   "source": [
    "import random , math\n",
    "\n",
    "a = random.randint(1, 10)\n",
    "b = random.randint(1, 10)\n",
    "c = random.randint(1, 10)\n",
    "d = random.randint(1, 10)\n",
    "e = random.randint(1, 10)\n",
    "f = random.randint(1, 10)\n",
    "\n",
    "result = ((a**2 + 2*b) * math.sqrt(c) + (d % 3)) - (e / 2) + f + ((a * c) % 5)\n",
    "\n",
    "\n",
    "print(f\"a = {a}, b = {b}, c = {c}, d = {d}, e = {e}, f = {f}\")\n",
    "print(f\"Результат виразу: {result}\")\n"
   ]
  },
  {
   "cell_type": "markdown",
   "metadata": {},
   "source": [
    "# Task 2"
   ]
  },
  {
   "cell_type": "code",
   "execution_count": 4,
   "metadata": {},
   "outputs": [
    {
     "name": "stdout",
     "output_type": "stream",
     "text": [
      "Taylor for 50 : 485165193.0670548\n",
      "Taylor for 100 : 485165195.40979016\n",
      "Taylor for 1000 : 485165195.40979016\n",
      "Built-in exp(x): 485165195.4097903\n"
     ]
    }
   ],
   "source": [
    "\n",
    "x = random.randint(1,100)\n",
    "\n",
    "def taylor_exp(x, n):\n",
    "    sum = 0   \n",
    "    for i in range(n+1):\n",
    "        sum += x**i/ math.factorial(i)\n",
    "    return sum\n",
    "\n",
    "\n",
    "taylor_50 = taylor_exp(x, 50)\n",
    "taylor_100 = taylor_exp(x, 100)\n",
    "taylor_1000 = taylor_exp(x, 1000)\n",
    "\n",
    "builtin = math.exp(x)\n",
    "\n",
    "print(f\"Taylor for 50 : {taylor_50}\")\n",
    "print(f\"Taylor for 100 : {taylor_100}\")\n",
    "print(f\"Taylor for 1000 : {taylor_1000}\")\n",
    "print(f\"Built-in exp(x): {builtin}\")\n"
   ]
  },
  {
   "cell_type": "markdown",
   "metadata": {},
   "source": [
    "# Task 3"
   ]
  },
  {
   "cell_type": "code",
   "execution_count": 1,
   "metadata": {},
   "outputs": [
    {
     "name": "stdout",
     "output_type": "stream",
     "text": [
      "3\n",
      "6\n",
      "9\n",
      "12\n",
      "15\n",
      "18\n",
      "21\n",
      "24\n",
      "27\n",
      "30\n",
      "33\n",
      "36\n",
      "39\n",
      "42\n",
      "45\n",
      "48\n",
      "51\n",
      "54\n",
      "57\n",
      "60\n",
      "63\n",
      "66\n",
      "69\n",
      "72\n",
      "75\n",
      "78\n",
      "81\n",
      "84\n",
      "87\n",
      "90\n",
      "93\n",
      "96\n",
      "99\n"
     ]
    }
   ],
   "source": [
    "def residual(limit):\n",
    "  for x in range(limit):\n",
    "    if x%3==0 and x>0:\n",
    "        print (x)\n",
    "residual(100)\n"
   ]
  }
 ],
 "metadata": {
  "kernelspec": {
   "display_name": "Python 3",
   "language": "python",
   "name": "python3"
  },
  "language_info": {
   "codemirror_mode": {
    "name": "ipython",
    "version": 3
   },
   "file_extension": ".py",
   "mimetype": "text/x-python",
   "name": "python",
   "nbconvert_exporter": "python",
   "pygments_lexer": "ipython3",
   "version": "3.12.2"
  }
 },
 "nbformat": 4,
 "nbformat_minor": 2
}
